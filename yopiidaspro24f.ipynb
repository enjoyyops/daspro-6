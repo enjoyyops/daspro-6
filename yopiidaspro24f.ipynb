{
 "cells": [
  {
   "cell_type": "code",
   "execution_count": 9,
   "id": "9e6e90fe-ede7-4e5d-b12d-cbf58234018b",
   "metadata": {},
   "outputs": [
    {
     "name": "stdin",
     "output_type": "stream",
     "text": [
      "Isikan Umur Anda : 19\n"
     ]
    },
    {
     "name": "stdout",
     "output_type": "stream",
     "text": [
      "Kategori : Dewasa\n"
     ]
    }
   ],
   "source": [
    "usia = int(input(\"Isikan Umur Anda :\"))\n",
    "if usia <=12:\n",
    "    print(\"Kategori : Anak\")\n",
    "elif usia <=17:\n",
    "    print(\"Kategori : Remaja\")\n",
    "elif usia<=59:\n",
    "    print(\"Kategori : Dewasa\")\n",
    "else:\n",
    "    print(\"Lansia\")"
   ]
  },
  {
   "cell_type": "code",
   "execution_count": 11,
   "id": "ec77bb06-1ff9-439e-9a2e-41cfa5cdb9a2",
   "metadata": {},
   "outputs": [
    {
     "name": "stdin",
     "output_type": "stream",
     "text": [
      "Isikan Umur Anda 29\n"
     ]
    },
    {
     "name": "stdout",
     "output_type": "stream",
     "text": [
      "Kategori : Dewasa\n"
     ]
    }
   ],
   "source": [
    "usia = int(input(\"Isikan Umur Anda\"))\n",
    "if usia >59:\n",
    "    print(\"Kategori : Lansia\")\n",
    "elif usia >17:\n",
    "    print(\"Kategori : Dewasa\")\n",
    "elif usia >12:\n",
    "    print(\"Kategori : Remaja\")\n",
    "else:\n",
    "    print(\"Anak - Anak\")"
   ]
  },
  {
   "cell_type": "code",
   "execution_count": 12,
   "id": "b4d489a1-6339-483f-810d-a69cb2274ff0",
   "metadata": {},
   "outputs": [
    {
     "name": "stdin",
     "output_type": "stream",
     "text": [
      "Isikan Umur Anda: 87\n"
     ]
    },
    {
     "name": "stdout",
     "output_type": "stream",
     "text": [
      "Lansia\n"
     ]
    }
   ],
   "source": [
    "usia = int(input(\"Isikan Umur Anda:\"))\n",
    "\n",
    "if usia >=0:\n",
    "    if usia <=12:\n",
    "        print(\"Kategori : Anak\")\n",
    "    elif usia <=17:\n",
    "        print(\"Kategori : Remaja\")\n",
    "    elif usia<=59:\n",
    "        print(\"Kategori : Dewasa\")\n",
    "    else:\n",
    "        print(\"Lansia\")\n",
    "else:\n",
    "    print(\"Umur Tidak Valid\")\n",
    "    "
   ]
  },
  {
   "cell_type": "code",
   "execution_count": 33,
   "id": "f342e4f7-5fb6-48b0-8641-27406b370b2c",
   "metadata": {},
   "outputs": [
    {
     "name": "stdin",
     "output_type": "stream",
     "text": [
      "Isikan Umur Tiket 1: 19\n",
      "Isikan Umur Tiket 2: 37\n",
      "Isikan Umur Tiket 3: 46\n"
     ]
    },
    {
     "name": "stdout",
     "output_type": "stream",
     "text": [
      "Tiket 1 : 25000\n",
      "Total Biaya :  25000\n",
      "Tiket 2 : 25000\n",
      "Total Biaya :  25000\n",
      "Tiket 3 : 25000\n",
      "Total Biaya :  25000\n"
     ]
    }
   ],
   "source": [
    "tiket1 = int(input(\"Isikan Umur Tiket 1:\"))\n",
    "tiket2 = int(input(\"Isikan Umur Tiket 2:\"))\n",
    "tiket3 = int(input(\"Isikan Umur Tiket 3:\"))\n",
    "\n",
    "totalBiaya = 0\n",
    "\n",
    "if tiket1 <13:\n",
    "    print(\"Tiket 1 : 10000\")\n",
    "    totalBiaya = totalBayar + 10000\n",
    "if tiket1 <18:\n",
    "    print(\"Tiket 1 : 15000\")\n",
    "    totalBiaya = totalBayar + 15000\n",
    "if tiket1 <60:\n",
    "    print(\"Tiket 1 : 25000\")\n",
    "    totalBiaya = totalBayar + 25000\n",
    "else:\n",
    "    print(\"Tiket 1 : Gratis\")\n",
    "\n",
    "if tiket2 <13:\n",
    "    print(\"Tiket 2 : 10000\")\n",
    "    totalBiaya = totalBayar + 10000\n",
    "if tiket2 <18:\n",
    "    print(\"Tiket 2 : 15000\")\n",
    "    totalBiaya = totalBayar + 15000\n",
    "if tiket2 <60:\n",
    "    print(\"Tiket 2 : 25000\")\n",
    "    totalBiaya = totalBayar + 25000\n",
    "else:\n",
    "    print(\"Tiket 2 : Gratis\")\n",
    "    \n",
    "if tiket3 <13:\n",
    "    print(\"Tiket 3 : 10000\")\n",
    "    totalBiaya = totalBayar + 10000\n",
    "if tiket3 <18:\n",
    "    print(\"Tiket 3 : 15000\")\n",
    "    totalBiaya = totalBayar + 15000\n",
    "if tiket3 <60:\n",
    "    print(\"Tiket 3 : 25000\")\n",
    "    totalBiaya = totalBayar + 25000\n",
    "else:\n",
    "    print(\"Tiket 3 : Gratis\")\n",
    "    \n",
    "print(\"Total Biaya : \", totalBiaya)"
   ]
  },
  {
   "cell_type": "code",
   "execution_count": 44,
   "id": "888f9963-cfd8-4371-b65a-316f23926528",
   "metadata": {},
   "outputs": [
    {
     "name": "stdin",
     "output_type": "stream",
     "text": [
      "Isikan Nilai Rapor: 90\n",
      "Isikan Penghasilan Ortu (dalam Rp):  9000000\n"
     ]
    },
    {
     "name": "stdout",
     "output_type": "stream",
     "text": [
      "Anda Mendapatkan Beasiswa.\n"
     ]
    }
   ],
   "source": [
    "nilaiRapor = int(input(\"Isikan Nilai Rapor:\" ))\n",
    "penghasilan = int(input(\"Isikan Penghasilan Ortu (dalam Rp): \"))\n",
    "\n",
    "if nilaiRapor > 90 and penghasilan < 5000000:\n",
    "    print(\"Anda Mendapatkan Beasiswa Penuh.\")\n",
    "elif nilaiRapor > 85 and penghasilan < 8000000:\n",
    "    print(\"Anda Mendapatkan Beasiswa 50%\")\n",
    "else:\n",
    "    print(\"Anda Mendapatkan Beasiswa.\")"
   ]
  },
  {
   "cell_type": "code",
   "execution_count": 41,
   "id": "547b37c3-9692-4aac-89e0-7e4c3dd75ac0",
   "metadata": {},
   "outputs": [
    {
     "name": "stdin",
     "output_type": "stream",
     "text": [
      "Isikan motor/mobil: mobil\n",
      "Jam Masuk: 8\n",
      "Jam Keluar: 12\n"
     ]
    },
    {
     "name": "stdout",
     "output_type": "stream",
     "text": [
      "Tarif mobil : 5000\n",
      "Lama Parkir : 4\n",
      "Total Tarif : Rp 20000\n"
     ]
    }
   ],
   "source": [
    "jenisKendaraan = input(\"Isikan motor/mobil:\")\n",
    "jamMasuk = int(input(\"Jam Masuk:\"))\n",
    "jamKeluar = int(input(\"Jam Keluar:\"))\n",
    "\n",
    "tarifPerJam = 0\n",
    "if jenisKendaraan == \"motor\":\n",
    "    tarifPerJam = 2000\n",
    "elif jenisKendaraan == \"mobil\":\n",
    "    tarifPerJam = 5000\n",
    "else:\n",
    "    print(\"Tidak Menerima Selain Mobil Atau Motor\")\n",
    "if jamMasuk >= jamKeluar:\n",
    "    print(\"Input Jam Masuk/Keluar Salah\")\n",
    "else:\n",
    "    totalTarif = (jamKeluar - jamMasuk) * tarifPerJam\n",
    "    \n",
    "print(f\"Tarif {jenisKendaraan} : {tarifPerJam}\")\n",
    "print(F\"Lama Parkir : {jamKeluar-jamMasuk}\")\n",
    "print(f\"Total Tarif : Rp {totalTarif}\")"
   ]
  },
  {
   "cell_type": "code",
   "execution_count": 42,
   "id": "8e9c0c8c-4286-4659-b70e-3f09ea4d420b",
   "metadata": {},
   "outputs": [
    {
     "name": "stdin",
     "output_type": "stream",
     "text": [
      "Nomor Punggung : 6\n"
     ]
    },
    {
     "name": "stdout",
     "output_type": "stream",
     "text": [
      "Kamu Mempunyai Pilihan Posisi : Target Attacker \n"
     ]
    }
   ],
   "source": [
    "nomorPunggung = int(input(\"Nomor Punggung :\"))\n",
    "posisi = \"\"\n",
    "if nomorPunggung % 2 == 0:\n",
    "    posisi += \"Target Attacker\"\n",
    "    if nomorPunggung >=50 and nomorPunggung <=100:\n",
    "        posisi += \"Berhak Dipilih Menjadi Capten,\"\n",
    "else:\n",
    "    posisi += \"Defender,\"\n",
    "    if nomorPunggung > 90:\n",
    "        posisi += \"Playmaker,\"\n",
    "    if nomorPunggung % 3 == 0 and nomorPunggung % 5 == 0:\n",
    "        posisi += \"Keeper\"\n",
    "print(f\"Kamu Mempunyai Pilihan Posisi : {posisi} \")"
   ]
  },
  {
   "cell_type": "code",
   "execution_count": 74,
   "id": "a8a8575b-b4b7-48b1-915a-fc292c02f6f6",
   "metadata": {},
   "outputs": [
    {
     "name": "stdin",
     "output_type": "stream",
     "text": [
      "Masukan Nilai Coding (0-100) : 90\n",
      "Masukan Nilai Interview (A/B):  a\n"
     ]
    },
    {
     "name": "stdout",
     "output_type": "stream",
     "text": [
      "MAAF KAMU BELUM BERHASIL MENJADI PROGRAMER\n"
     ]
    }
   ],
   "source": [
    "nilaiCoding = int(input(\"Masukan Nilai Coding (0-100) :\"))\n",
    "nilaiInterview = input(\"Masukan Nilai Interview (A/B): \" )\n",
    "\n",
    "if nilaiCoding > 80:\n",
    "    hasilNilai =\"LOLOS\"\n",
    "elif 60 <= nilaiCoding <= 80:\n",
    "    hasilCoding = \"DIPERTIMBANGKAN\"\n",
    "else:\n",
    "    hasilCoding = \"GAGAL\"\n",
    "    \n",
    "if nilaiInterview in [\"A\", \"B\"]:\n",
    "    hasilInterview = \"LOLOS\"\n",
    "else:\n",
    "    hasilInterview = \"GAGAL\"\n",
    "\n",
    "if (hasilCoding == \"LOLOS\" or hasilCoding == \"DIPERTIMBANGKAN\") and hasilInterview == \"LOLOS\":\n",
    "    print(\"SELAMAT KAMU BERHASIL MENJADI PROGRAMER\")\n",
    "else:\n",
    "    print(\"MAAF KAMU BELUM BERHASIL MENJADI PROGRAMER\")"
   ]
  }
 ],
 "metadata": {
  "kernelspec": {
   "display_name": "Python 3 (ipykernel)",
   "language": "python",
   "name": "python3"
  },
  "language_info": {
   "codemirror_mode": {
    "name": "ipython",
    "version": 3
   },
   "file_extension": ".py",
   "mimetype": "text/x-python",
   "name": "python",
   "nbconvert_exporter": "python",
   "pygments_lexer": "ipython3",
   "version": "3.9.12"
  }
 },
 "nbformat": 4,
 "nbformat_minor": 5
}
